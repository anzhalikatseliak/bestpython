{
 "cells": [
  {
   "cell_type": "code",
   "execution_count": 1,
   "metadata": {},
   "outputs": [],
   "source": [
    "#1"
   ]
  },
  {
   "cell_type": "code",
   "execution_count": 4,
   "metadata": {},
   "outputs": [
    {
     "name": "stdout",
     "output_type": "stream",
     "text": [
      "Enter the limit10\n",
      "Total sum = 33\n"
     ]
    }
   ],
   "source": [
    "limit = int(input('Enter the limit'))\n",
    "\n",
    "total_sum = 0\n",
    "for x in range (limit + 1):\n",
    "    if x %3 == 0 or x % 5 == 0:\n",
    "        total_sum += x\n",
    "        \n",
    "print(f'Total sum = {total_sum}')"
   ]
  },
  {
   "cell_type": "code",
   "execution_count": 5,
   "metadata": {},
   "outputs": [
    {
     "name": "stdout",
     "output_type": "stream",
     "text": [
      "Enter the limit10\n",
      "Total sum = 33\n"
     ]
    }
   ],
   "source": [
    "limit = int(input('Enter the limit'))\n",
    "\n",
    "total_sum = sum([x for x in range(limit +1) if x %3 == 0 or x % 5 == 0])\n",
    "\n",
    "print(f'Total sum = {total_sum}')"
   ]
  },
  {
   "cell_type": "code",
   "execution_count": 6,
   "metadata": {},
   "outputs": [],
   "source": [
    "#2"
   ]
  },
  {
   "cell_type": "code",
   "execution_count": 8,
   "metadata": {},
   "outputs": [
    {
     "name": "stdout",
     "output_type": "stream",
     "text": [
      "Merged list: [1, 3, 5, 12, 14]\n"
     ]
    }
   ],
   "source": [
    "first_list = [1,2,3,4,5,6]\n",
    "second_list = [11,12,13,14,15]\n",
    "\n",
    "joined_list = []\n",
    "for x in first_list:\n",
    "    if x % 2 != 0:\n",
    "        joined_list.append(x)\n",
    "        \n",
    "for x in second_list:\n",
    "    if x % 2 == 0:\n",
    "        joined_list.append(x)\n",
    "        \n",
    "print(f'Merged list: {joined_list}')        "
   ]
  },
  {
   "cell_type": "code",
   "execution_count": 9,
   "metadata": {},
   "outputs": [
    {
     "name": "stdout",
     "output_type": "stream",
     "text": [
      "Merged list: [1, 3, 5, 12, 14]\n"
     ]
    }
   ],
   "source": [
    "first_list = [1,2,3,4,5,6]\n",
    "second_list = [11,12,13,14,15]\n",
    "\n",
    "odds = [x for x in first_list if x % 2 != 0]\n",
    "evens = [x for x in second_list if x % 2 == 0]\n",
    "joined_list = odds + evens\n",
    "\n",
    "print(f'Merged list: {joined_list}')"
   ]
  },
  {
   "cell_type": "code",
   "execution_count": 10,
   "metadata": {},
   "outputs": [],
   "source": [
    "#3"
   ]
  },
  {
   "cell_type": "code",
   "execution_count": 11,
   "metadata": {},
   "outputs": [
    {
     "name": "stdout",
     "output_type": "stream",
     "text": [
      "2\n"
     ]
    }
   ],
   "source": [
    "current_hand = [2,3,4,10,'Q',5]\n",
    "\n",
    "cards = {2: 1, 3: 1, 4: 1, 5: 1, 6: 1, 7: 0, 8: 0, 9: 0, 10: -1, 'J': -1, 'Q': -1, 'K': -1, 'A': -1}\n",
    "\n",
    "cards_sum = sum([cards[x] for x in current_hand])\n",
    "print(cards_sum)"
   ]
  },
  {
   "cell_type": "code",
   "execution_count": null,
   "metadata": {},
   "outputs": [],
   "source": []
  }
 ],
 "metadata": {
  "kernelspec": {
   "display_name": "Python 3",
   "language": "python",
   "name": "python3"
  },
  "language_info": {
   "codemirror_mode": {
    "name": "ipython",
    "version": 3
   },
   "file_extension": ".py",
   "mimetype": "text/x-python",
   "name": "python",
   "nbconvert_exporter": "python",
   "pygments_lexer": "ipython3",
   "version": "3.8.3"
  }
 },
 "nbformat": 4,
 "nbformat_minor": 4
}
