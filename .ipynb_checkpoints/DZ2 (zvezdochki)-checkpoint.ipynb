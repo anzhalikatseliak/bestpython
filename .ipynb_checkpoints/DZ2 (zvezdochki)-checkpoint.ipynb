{
 "cells": [
  {
   "cell_type": "code",
   "execution_count": 1,
   "metadata": {},
   "outputs": [],
   "source": [
    "#Вывести лесенкой символ звездочки по кол-ву строк,заданных пользователем.\n",
    "#Запросить ввод у пользователя кол-ва строк,вывести звездочки лесенкой.\n",
    "#Например, пользователь ввел число 2.Тогда выводим:\n",
    "#*\n",
    "#**\n",
    "#Например, пользователь ввел число 4.Тогда выводим:\n",
    "#*\n",
    "#**\n",
    "#***\n",
    "#****"
   ]
  },
  {
   "cell_type": "code",
   "execution_count": 2,
   "metadata": {},
   "outputs": [
    {
     "name": "stdout",
     "output_type": "stream",
     "text": [
      "quantity?4\n",
      "*\n",
      "**\n",
      "***\n",
      "****\n"
     ]
    }
   ],
   "source": [
    "zvezdochki = int(input(\"quantity?\"))\n",
    "for i in range(1,zvezdochki+1):\n",
    "    print(\"*\"*i)"
   ]
  },
  {
   "cell_type": "code",
   "execution_count": null,
   "metadata": {},
   "outputs": [],
   "source": []
  }
 ],
 "metadata": {
  "kernelspec": {
   "display_name": "Python 3",
   "language": "python",
   "name": "python3"
  },
  "language_info": {
   "codemirror_mode": {
    "name": "ipython",
    "version": 3
   },
   "file_extension": ".py",
   "mimetype": "text/x-python",
   "name": "python",
   "nbconvert_exporter": "python",
   "pygments_lexer": "ipython3",
   "version": "3.8.3"
  }
 },
 "nbformat": 4,
 "nbformat_minor": 4
}
