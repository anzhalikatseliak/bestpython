{
 "cells": [
  {
   "cell_type": "code",
   "execution_count": 14,
   "metadata": {},
   "outputs": [
    {
     "ename": "IndentationError",
     "evalue": "expected an indented block (<ipython-input-14-7b9715d39bbe>, line 7)",
     "output_type": "error",
     "traceback": [
      "\u001b[1;36m  File \u001b[1;32m\"<ipython-input-14-7b9715d39bbe>\"\u001b[1;36m, line \u001b[1;32m7\u001b[0m\n\u001b[1;33m    for y in second_list:\u001b[0m\n\u001b[1;37m                          ^\u001b[0m\n\u001b[1;31mIndentationError\u001b[0m\u001b[1;31m:\u001b[0m expected an indented block\n"
     ]
    }
   ],
   "source": [
    "first_list = [n for n in range(0, 10+1)]\n",
    "second_list = [n for n in range(0, 10+1)]\n",
    "\n",
    "joined_list = []\n",
    "for x in first_list: \n",
    "        if n%2!=0 :   \n",
    "for y in second_list: \n",
    "        if n%2==0:\n",
    "        summa = x + y\n",
    "        if summa == 0:\n",
    "         joined_list.append((x, y))\n",
    "joined_list\n"
   ]
  },
  {
   "cell_type": "code",
   "execution_count": 16,
   "metadata": {},
   "outputs": [
    {
     "data": {
      "text/plain": [
       "[]"
      ]
     },
     "execution_count": 16,
     "metadata": {},
     "output_type": "execute_result"
    }
   ],
   "source": [
    "first_list = [n for n in range(0, 10+1)if n%2!=0]\n",
    "second_list = [n for n in range(0, 10+1)if n%2==0]\n",
    "\n",
    "joined_list = []\n",
    "for x in first_list:\n",
    "    for y in second_list:\n",
    "        summa = x + y\n",
    "        if summa == 0:\n",
    "         joined_list((x, y))\n",
    "joined_list"
   ]
  },
  {
   "cell_type": "code",
   "execution_count": 25,
   "metadata": {},
   "outputs": [
    {
     "ename": "SyntaxError",
     "evalue": "invalid syntax (<ipython-input-25-8ee4e157d1ab>, line 5)",
     "output_type": "error",
     "traceback": [
      "\u001b[1;36m  File \u001b[1;32m\"<ipython-input-25-8ee4e157d1ab>\"\u001b[1;36m, line \u001b[1;32m5\u001b[0m\n\u001b[1;33m    for x in first_list if x%2!=0:\u001b[0m\n\u001b[1;37m                                 ^\u001b[0m\n\u001b[1;31mSyntaxError\u001b[0m\u001b[1;31m:\u001b[0m invalid syntax\n"
     ]
    }
   ],
   "source": [
    "first_list = [1,3,4,5,6,7,9,]\n",
    "second_list = [1,2,3,4,6,7,8,9,]\n",
    "\n",
    "joined_list = []\n",
    "for x in first_list if x%2!=0:    \n",
    "for y in second_list if y%2==0:\n",
    "        summa = x + y\n",
    "        if summa == 0:\n",
    "         joined_list.append((x, y))\n",
    "joined_list"
   ]
  },
  {
   "cell_type": "code",
   "execution_count": 37,
   "metadata": {},
   "outputs": [
    {
     "data": {
      "text/plain": [
       "[1, 1, 0, 1, 0, 1, 1]"
      ]
     },
     "execution_count": 37,
     "metadata": {},
     "output_type": "execute_result"
    }
   ],
   "source": [
    "first_list = [1,3,4,5,6,7,9,]\n",
    "second_list = [1,2,3,4,6,7,8,9,]\n",
    "\n",
    "joined_list = []\n",
    "for x in first_list:    \n",
    "    for y in second_list:\n",
    "        summa = (x%2!=0) + (y%2==0)\n",
    "    joined_list.append(summa)\n",
    "joined_list\n"
   ]
  },
  {
   "cell_type": "code",
   "execution_count": null,
   "metadata": {},
   "outputs": [],
   "source": []
  }
 ],
 "metadata": {
  "kernelspec": {
   "display_name": "Python 3",
   "language": "python",
   "name": "python3"
  },
  "language_info": {
   "codemirror_mode": {
    "name": "ipython",
    "version": 3
   },
   "file_extension": ".py",
   "mimetype": "text/x-python",
   "name": "python",
   "nbconvert_exporter": "python",
   "pygments_lexer": "ipython3",
   "version": "3.8.3"
  }
 },
 "nbformat": 4,
 "nbformat_minor": 4
}
