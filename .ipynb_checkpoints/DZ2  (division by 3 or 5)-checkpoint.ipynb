{
 "cells": [
  {
   "cell_type": "code",
   "execution_count": 1,
   "metadata": {},
   "outputs": [],
   "source": [
    "#Вы получаете числа от пользователя.\n",
    "#Построить цикл от 0 до введенного числа(включительно) и посчиттать сумму всех чисел,делимых без остатка\n",
    "#на 3 или 5.Вывести на кнсоль эо число.\n",
    "#Пимечание:задача решается как прямым for,так и с помощью list comprehension.\n",
    "#(просуммировать числа 'профильтрованного' списка можно,передав список в функциию sum(arg_list))."
   ]
  },
  {
   "cell_type": "code",
   "execution_count": 3,
   "metadata": {},
   "outputs": [
    {
     "data": {
      "text/plain": [
       "[(0, 0)]"
      ]
     },
     "execution_count": 3,
     "metadata": {},
     "output_type": "execute_result"
    }
   ],
   "source": [
    "numbers = [n for n in range(0, 10+1)if n%3 ==0]\n",
    "numbers2 = [n for n in range(0, 10+1)if n%5 ==0]\n",
    "\n",
    "pairs = [(x,y) for x in numbers for y in numbers2 if x+y ==0]\n",
    "pairs"
   ]
  },
  {
   "cell_type": "code",
   "execution_count": 4,
   "metadata": {},
   "outputs": [
    {
     "name": "stdout",
     "output_type": "stream",
     "text": [
      "18\n"
     ]
    }
   ],
   "source": [
    "numbers= [n for n in range(0, 10+1)if n%3 ==0]\n",
    "print(sum(numbers))\n"
   ]
  },
  {
   "cell_type": "code",
   "execution_count": null,
   "metadata": {},
   "outputs": [],
   "source": []
  }
 ],
 "metadata": {
  "kernelspec": {
   "display_name": "Python 3",
   "language": "python",
   "name": "python3"
  },
  "language_info": {
   "codemirror_mode": {
    "name": "ipython",
    "version": 3
   },
   "file_extension": ".py",
   "mimetype": "text/x-python",
   "name": "python",
   "nbconvert_exporter": "python",
   "pygments_lexer": "ipython3",
   "version": "3.8.3"
  }
 },
 "nbformat": 4,
 "nbformat_minor": 4
}
