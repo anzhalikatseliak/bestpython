{
 "cells": [
  {
   "cell_type": "code",
   "execution_count": 5,
   "metadata": {},
   "outputs": [
    {
     "data": {
      "text/plain": [
       "[0, 3, 6, 9]"
      ]
     },
     "execution_count": 5,
     "metadata": {},
     "output_type": "execute_result"
    }
   ],
   "source": [
    "numbers = [n for n in range(0, 10+1)if n%3 ==0]\n",
    "numbers"
   ]
  },
  {
   "cell_type": "code",
   "execution_count": 15,
   "metadata": {},
   "outputs": [
    {
     "data": {
      "text/plain": [
       "[0, 5, 10]"
      ]
     },
     "execution_count": 15,
     "metadata": {},
     "output_type": "execute_result"
    }
   ],
   "source": [
    "numbers2 = [n for n in range(0, 10+1)if n%5 ==0]\n",
    "numbers"
   ]
  },
  {
   "cell_type": "code",
   "execution_count": 19,
   "metadata": {},
   "outputs": [
    {
     "ename": "SyntaxError",
     "evalue": "invalid syntax (<ipython-input-19-c283161a3a9a>, line 8)",
     "output_type": "error",
     "traceback": [
      "\u001b[1;36m  File \u001b[1;32m\"<ipython-input-19-c283161a3a9a>\"\u001b[1;36m, line \u001b[1;32m8\u001b[0m\n\u001b[1;33m    if summa !== 0\u001b[0m\n\u001b[1;37m               ^\u001b[0m\n\u001b[1;31mSyntaxError\u001b[0m\u001b[1;31m:\u001b[0m invalid syntax\n"
     ]
    }
   ],
   "source": [
    "numbers = [n for n in range(0, 10+1)if n%3 ==0]\n",
    "numbers2 = [n for n in range(0, 10+1)if n%5 ==0]\n",
    "\n",
    "pairs = []\n",
    "for x in numbers:\n",
    "    for y in numbers2:\n",
    "        summa = x + y\n",
    "        if summa == 0\n",
    "        pairs.append((x, y))\n",
    "pairs \n"
   ]
  },
  {
   "cell_type": "code",
   "execution_count": 21,
   "metadata": {},
   "outputs": [
    {
     "ename": "SyntaxError",
     "evalue": "invalid syntax (<ipython-input-21-9e7874e2857a>, line 8)",
     "output_type": "error",
     "traceback": [
      "\u001b[1;36m  File \u001b[1;32m\"<ipython-input-21-9e7874e2857a>\"\u001b[1;36m, line \u001b[1;32m8\u001b[0m\n\u001b[1;33m    if summa == 0\u001b[0m\n\u001b[1;37m                 ^\u001b[0m\n\u001b[1;31mSyntaxError\u001b[0m\u001b[1;31m:\u001b[0m invalid syntax\n"
     ]
    }
   ],
   "source": [
    "numbers = [n for n in range(0, 10+1)]\n",
    "numbers2 = [n for n in range(0, 10+1)]\n",
    "\n",
    "pairs = []\n",
    "for x in numbers:\n",
    "    for y in numbers2:\n",
    "        summa = x%3==0 + y%5==0\n",
    "        if summa == 0\n",
    "        pairs.append((x, y))\n",
    "pairs \n",
    "\n"
   ]
  },
  {
   "cell_type": "code",
   "execution_count": 23,
   "metadata": {},
   "outputs": [
    {
     "ename": "IndentationError",
     "evalue": "expected an indented block (<ipython-input-23-741e56aed811>, line 9)",
     "output_type": "error",
     "traceback": [
      "\u001b[1;36m  File \u001b[1;32m\"<ipython-input-23-741e56aed811>\"\u001b[1;36m, line \u001b[1;32m9\u001b[0m\n\u001b[1;33m    pairs.append((x, y))\u001b[0m\n\u001b[1;37m    ^\u001b[0m\n\u001b[1;31mIndentationError\u001b[0m\u001b[1;31m:\u001b[0m expected an indented block\n"
     ]
    }
   ],
   "source": [
    "numbers = [n for n in range(0, 10+1)if n%3 ==0]\n",
    "numbers2 = [n for n in range(0, 10+1)if n%5 ==0]\n",
    "\n",
    "pairs = []\n",
    "for x in numbers:\n",
    "    for y in numbers2:\n",
    "        cur_sum = x + y\n",
    "        if cur_sum == 0:\n",
    "        pairs.append((x, y))\n",
    "pairs \n",
    "\n"
   ]
  },
  {
   "cell_type": "code",
   "execution_count": 25,
   "metadata": {},
   "outputs": [
    {
     "data": {
      "text/plain": [
       "[(0, 0)]"
      ]
     },
     "execution_count": 25,
     "metadata": {},
     "output_type": "execute_result"
    }
   ],
   "source": [
    "numbers = [n for n in range(0, 10+1)if n%3 ==0]\n",
    "numbers2 = [n for n in range(0, 10+1)if n%5 ==0]\n",
    "\n",
    "pairs = [(x,y) for x in numbers for y in numbers2 if x+y ==0]\n",
    "pairs"
   ]
  },
  {
   "cell_type": "code",
   "execution_count": 30,
   "metadata": {},
   "outputs": [
    {
     "name": "stdout",
     "output_type": "stream",
     "text": [
      "18\n"
     ]
    }
   ],
   "source": [
    "numbers= [n for n in range(0, 10+1)if n%3 ==0]\n",
    "print(sum(numbers))\n",
    "\n"
   ]
  },
  {
   "cell_type": "code",
   "execution_count": null,
   "metadata": {},
   "outputs": [],
   "source": []
  }
 ],
 "metadata": {
  "kernelspec": {
   "display_name": "Python 3",
   "language": "python",
   "name": "python3"
  },
  "language_info": {
   "codemirror_mode": {
    "name": "ipython",
    "version": 3
   },
   "file_extension": ".py",
   "mimetype": "text/x-python",
   "name": "python",
   "nbconvert_exporter": "python",
   "pygments_lexer": "ipython3",
   "version": "3.8.3"
  }
 },
 "nbformat": 4,
 "nbformat_minor": 4
}
