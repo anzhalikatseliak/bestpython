{
 "cells": [
  {
   "cell_type": "code",
   "execution_count": 4,
   "metadata": {},
   "outputs": [
    {
     "name": "stdout",
     "output_type": "stream",
     "text": [
      "Enter x1-2\n",
      "Enter y11\n",
      "Enter x24\n",
      "Enter y23\n",
      "6.325\n"
     ]
    }
   ],
   "source": [
    "x1 = int(input('Enter x1'))\n",
    "y1 = int(input('Enter y1'))\n",
    "x2 = int(input('Enter x2'))\n",
    "y2 = int(input('Enter y2'))\n",
    "\n",
    "distance = round(((x1-x2)**2 + (y1-y2)**2)** 0.5, 3)\n",
    "print(distance)"
   ]
  },
  {
   "cell_type": "code",
   "execution_count": 7,
   "metadata": {},
   "outputs": [
    {
     "name": "stdout",
     "output_type": "stream",
     "text": [
      "Enter x1-2\n",
      "Enter y11\n",
      "Enter x24\n",
      "Enter y23\n",
      "6.325\n"
     ]
    }
   ],
   "source": [
    "import math\n",
    "\n",
    "x1 = int(input('Enter x1'))\n",
    "y1 = int(input('Enter y1'))\n",
    "x2 = int(input('Enter x2'))\n",
    "y2 = int(input('Enter y2'))\n",
    "\n",
    "distance = round(math.sqrt((x1-x2)**2 + (y1 - y2)**2), 3)\n",
    "print(distance)"
   ]
  },
  {
   "cell_type": "code",
   "execution_count": 8,
   "metadata": {},
   "outputs": [
    {
     "name": "stdout",
     "output_type": "stream",
     "text": [
      "How many chicken?2\n",
      "How many cows?2\n",
      "How many pigs?2\n",
      "20\n"
     ]
    }
   ],
   "source": [
    "chicken = int(input('How many chicken?'))\n",
    "cows = int(input('How many cows?'))\n",
    "pigs = int(input('How many pigs?'))\n",
    "\n",
    "total_legs = chicken * 2 + (cows + pigs) * 4\n",
    "print(total_legs)"
   ]
  },
  {
   "cell_type": "code",
   "execution_count": null,
   "metadata": {},
   "outputs": [],
   "source": []
  }
 ],
 "metadata": {
  "kernelspec": {
   "display_name": "Python 3",
   "language": "python",
   "name": "python3"
  },
  "language_info": {
   "codemirror_mode": {
    "name": "ipython",
    "version": 3
   },
   "file_extension": ".py",
   "mimetype": "text/x-python",
   "name": "python",
   "nbconvert_exporter": "python",
   "pygments_lexer": "ipython3",
   "version": "3.8.3"
  }
 },
 "nbformat": 4,
 "nbformat_minor": 4
}
