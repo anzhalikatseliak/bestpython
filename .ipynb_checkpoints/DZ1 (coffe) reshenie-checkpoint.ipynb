{
 "cells": [
  {
   "cell_type": "code",
   "execution_count": 1,
   "metadata": {},
   "outputs": [
    {
     "name": "stdout",
     "output_type": "stream",
     "text": [
      "Enter the number of cups7\n",
      "1\n"
     ]
    }
   ],
   "source": [
    "promt=input('Enter the number of cups')\n",
    "cups=int(promt)\n",
    "free_cups=int(cups/6)\n",
    "print(free_cups)"
   ]
  },
  {
   "cell_type": "code",
   "execution_count": 2,
   "metadata": {},
   "outputs": [
    {
     "name": "stdout",
     "output_type": "stream",
     "text": [
      "Enter the number of cups13\n",
      "2\n"
     ]
    }
   ],
   "source": [
    "cups = int(input('Enter the number of cups'))\n",
    "print(int(cups / 6))"
   ]
  },
  {
   "cell_type": "code",
   "execution_count": null,
   "metadata": {},
   "outputs": [],
   "source": []
  }
 ],
 "metadata": {
  "kernelspec": {
   "display_name": "Python 3",
   "language": "python",
   "name": "python3"
  },
  "language_info": {
   "codemirror_mode": {
    "name": "ipython",
    "version": 3
   },
   "file_extension": ".py",
   "mimetype": "text/x-python",
   "name": "python",
   "nbconvert_exporter": "python",
   "pygments_lexer": "ipython3",
   "version": "3.8.3"
  }
 },
 "nbformat": 4,
 "nbformat_minor": 4
}
