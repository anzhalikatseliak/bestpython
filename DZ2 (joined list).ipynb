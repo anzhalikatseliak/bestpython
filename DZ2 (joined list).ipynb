{
 "cells": [
  {
   "cell_type": "code",
   "execution_count": 2,
   "metadata": {},
   "outputs": [],
   "source": [
    "#На вход подаются два списка чисел длины N.\n",
    "#Задача взять из первого списка все нечетнные числа,из второго чётные и объединить их в новом списке с названием \n",
    "#joined_list.\n",
    "#Примечние:можно сделать двумя цииклами for,можно одним,можно с помощью list comprehensions."
   ]
  },
  {
   "cell_type": "code",
   "execution_count": 3,
   "metadata": {},
   "outputs": [
    {
     "data": {
      "text/plain": [
       "[1, 1, 0, 1, 0, 1, 1]"
      ]
     },
     "execution_count": 3,
     "metadata": {},
     "output_type": "execute_result"
    }
   ],
   "source": [
    "first_list = [1,3,4,5,6,7,9,]\n",
    "second_list = [1,2,3,4,6,7,8,9]\n",
    "\n",
    "joined_list = []\n",
    "for x in first_list:    \n",
    "    for y in second_list:\n",
    "        summa = (x%2!=0) + (y%2==0)\n",
    "    joined_list.append(summa)\n",
    "joined_list\n"
   ]
  },
  {
   "cell_type": "code",
   "execution_count": null,
   "metadata": {},
   "outputs": [],
   "source": []
  }
 ],
 "metadata": {
  "kernelspec": {
   "display_name": "Python 3",
   "language": "python",
   "name": "python3"
  },
  "language_info": {
   "codemirror_mode": {
    "name": "ipython",
    "version": 3
   },
   "file_extension": ".py",
   "mimetype": "text/x-python",
   "name": "python",
   "nbconvert_exporter": "python",
   "pygments_lexer": "ipython3",
   "version": "3.8.3"
  }
 },
 "nbformat": 4,
 "nbformat_minor": 4
}
